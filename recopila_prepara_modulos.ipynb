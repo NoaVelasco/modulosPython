{
 "cells": [
  {
   "cell_type": "markdown",
   "metadata": {},
   "source": [
    "# Recopilación de códigos y preparación para una creación de módulos propios\n",
    "## Funciones de listas"
   ]
  },
  {
   "cell_type": "code",
   "execution_count": 3,
   "metadata": {},
   "outputs": [
    {
     "name": "stdout",
     "output_type": "stream",
     "text": [
      "['leche', 'cacao', 'avellanas', 'tripas']\n",
      "['leche', 'cacao', 'avellanas', 'azúcar']\n"
     ]
    }
   ],
   "source": [
    "# Cambiar el elemento de una lista mediante su número indexado\n",
    "\n",
    "def replindex(lista):\n",
    "    print(lista)\n",
    "    \n",
    "    orden=int(input(\"index: \"))\n",
    "    valor=input(\"nuevo valor: \")\n",
    "    \n",
    "    lista[orden]=valor\n",
    "    print(lista)\n",
    "\n",
    "    \n",
    "x=[\"leche\", \"cacao\", \"avellanas\", \"tripas\"]    \n",
    "replindex(x)"
   ]
  },
  {
   "cell_type": "code",
   "execution_count": 6,
   "metadata": {},
   "outputs": [
    {
     "name": "stdout",
     "output_type": "stream",
     "text": [
      "['leche', 'cacao', 'avellanas', 'tripas']\n",
      "['leche', 'cacao', 'avellanas', 'azúcar']\n"
     ]
    }
   ],
   "source": [
    "# Cambiar el elemento de una lista mediante su nombre\n",
    "\n",
    "def replname(lista):\n",
    "    print(lista)\n",
    "\n",
    "    buscar = input(\"elemento a buscar: \")\n",
    "    valor = input(\"elemento a reemplazar: \")\n",
    "\n",
    "    lista[lista.index(buscar)] = valor\n",
    "        \n",
    "    print(lista)\n",
    "\n",
    "\n",
    "x = [\"leche\", \"cacao\", \"avellanas\", \"tripas\"]\n",
    "replname(x)\n"
   ]
  },
  {
   "cell_type": "code",
   "execution_count": 9,
   "metadata": {},
   "outputs": [
    {
     "name": "stdout",
     "output_type": "stream",
     "text": [
      "False\n"
     ]
    }
   ],
   "source": [
    "# ¿Está el número en la lista?\n",
    "\n",
    "def bingo(lista):\n",
    "    buscanum=int(input())\n",
    "    if buscanum in lista:\n",
    "        print(\"True\")\n",
    "    else:\n",
    "        print(\"False\")\n",
    "        \n",
    "\n",
    "numeros = [31, 22, 13, 44, 15, 65, 71, 83, 59, 10]\n",
    "bingo(numeros)"
   ]
  },
  {
   "cell_type": "code",
   "execution_count": 12,
   "metadata": {},
   "outputs": [
    {
     "name": "stdout",
     "output_type": "stream",
     "text": [
      "[31, 22, 13, 44, 15, 65, 71, 83, 59, 10, 4, 120]\n",
      "La lista contiene 12 elementos\n",
      "Su valor mínimo es 4\n",
      "Su valor máximo es 120\n",
      "La suma de sus valores es 537\n",
      "La media de sus valores es 44.75\n"
     ]
    }
   ],
   "source": [
    "def stats(lista):\n",
    "    \"\"\"Imprime varios atributos de una lista\"\"\"\n",
    "    \n",
    "    print(lista)\n",
    "    print(\"La lista contiene\", len(lista), \"elementos\")\n",
    "    print(\"Su valor mínimo es\", min(lista))\n",
    "    print(\"Su valor máximo es\", max(lista))\n",
    "    print(\"La suma de sus valores es\", sum(lista))\n",
    "    print(\"La media de sus valores es\", sum(lista)/len(lista))\n",
    "    \n",
    "\n",
    "numeros = [31, 22, 13, 44, 15, 65, 71, 83, 59, 10, 4, 120]\n",
    "stats(numeros)"
   ]
  },
  {
   "cell_type": "code",
   "execution_count": 18,
   "metadata": {},
   "outputs": [
    {
     "name": "stdout",
     "output_type": "stream",
     "text": [
      "['2', '3', '4', '5', '1']\n"
     ]
    }
   ],
   "source": [
    "def creador(nombre):\n",
    "    \"\"\"\n",
    "    Crea listas mediante inputs.\n",
    "    Llamar a la función con input para el nombre.\n",
    "    Luego la función adicion() añade elementos.\n",
    "    \"\"\"\n",
    "    \n",
    "    nombre=[]\n",
    "    adicion(nombre)\n",
    "    \n",
    "    print(nombre)\n",
    "    \n",
    "    \n",
    "def adicion(lista):\n",
    "    \"\"\"Añade elementos a una lista ya creada. Sale escribiendo '_esc_'.\"\"\"\n",
    "    \n",
    "    bucle=True\n",
    "    \n",
    "    while bucle:\n",
    "        x=input(\"Añade un elemento a la lista o escribe '_esc_' para salir\")\n",
    "        if x == \"_esc_\":\n",
    "            bucle=False\n",
    "        else:\n",
    "            lista.append(x)\n",
    "\n",
    "creador(input())\n",
    "\n"
   ]
  },
  {
   "cell_type": "code",
   "execution_count": 32,
   "metadata": {},
   "outputs": [
    {
     "name": "stdout",
     "output_type": "stream",
     "text": [
      "Escríbelo otra vez, por favor.\n",
      "Correcto.\n"
     ]
    }
   ],
   "source": [
    "def elige(lista, mensaje):\n",
    "    \"\"\"\n",
    "    Se le pide al usuario que escriba su opción escogida <mensaje>\n",
    "    y si está en la <lista> imprime correcto. Si no, repite.\n",
    "    \"\"\"\n",
    "    \n",
    "    userInput = input(mensaje).lower()\n",
    "\n",
    "    while userInput not in lista:\n",
    "        print(\"Escríbelo otra vez, por favor.\")\n",
    "        userInput = input(mensaje)\n",
    "\n",
    "        # otras opciones------------------\n",
    "        # minúsculas:\n",
    "        #userInput = input(mensaje).lower() \n",
    "        # mayúsculas:\n",
    "        #userInput = input(mensaje).upper()\n",
    "         \n",
    "    print(\"Correcto.\")\n",
    "\n",
    "\n",
    "\n",
    "opciones = ['a', 'b', 'c']\n",
    "msg=\"Elige tu opción\"\n",
    "elige(opciones, msg)\n"
   ]
  },
  {
   "cell_type": "code",
   "execution_count": 31,
   "metadata": {},
   "outputs": [
    {
     "name": "stdout",
     "output_type": "stream",
     "text": [
      "[0] = apple\n",
      "[1] = banana\n",
      "[2] = cherry\n",
      "[3] = coco\n",
      "[4] = pera\n",
      "[5] = melon\n"
     ]
    }
   ],
   "source": [
    "def indexElem(lista):\n",
    "    \"\"\"Muestra los elementos de una lista y sus índices.\"\"\"\n",
    "    contador=0\n",
    "    for i in lista:\n",
    "        print(f\"[{contador}] = {i}\")\n",
    "        contador+=1\n",
    "\n",
    "\n",
    "frutas = [\"apple\", \"banana\", \"cherry\", \"coco\", \"pera\", \"melon\"]\n",
    "\n",
    "indexElem(frutas)"
   ]
  },
  {
   "cell_type": "code",
   "execution_count": 43,
   "metadata": {},
   "outputs": [
    {
     "name": "stdout",
     "output_type": "stream",
     "text": [
      "apple = [0]\n",
      "banana = [1]\n",
      "cherry = [2]\n",
      "coco = [3]\n",
      "pera = [4]\n",
      "melon = [5]\n"
     ]
    }
   ],
   "source": [
    "def elemIndex(lista):\n",
    "    \"\"\"Muestra los elementos de una lista y sus índices.\"\"\"\n",
    "\n",
    "    for i in range(len(lista)):\n",
    "        print(f\"{lista[i]} = [{i}]\")\n",
    "\n",
    "\n",
    "frutas = [\"apple\", \"banana\", \"cherry\", \"coco\", \"pera\", \"melon\"]\n",
    "\n",
    "elemIndex(frutas)\n"
   ]
  },
  {
   "cell_type": "code",
   "execution_count": 35,
   "metadata": {},
   "outputs": [
    {
     "name": "stdout",
     "output_type": "stream",
     "text": [
      "Número de coincidencias: 4\n"
     ]
    }
   ],
   "source": [
    "def cuantoshay(lista, buscar):\n",
    "    \"\"\"Con una lista dada, encuentra las veces que aparece un elemento\"\"\"\n",
    "    \n",
    "    numveces = 0\n",
    "    for i in lista:\n",
    "        if(i == buscar):\n",
    "            numveces += 1\n",
    "    print(\"Número de coincidencias:\", numveces)\n",
    "\n",
    "\n",
    "notasCurso = [10, 4, 10, 3, 10, 4, 6, 10]\n",
    "cuantoshay(notasCurso, 10)\n"
   ]
  },
  {
   "cell_type": "markdown",
   "metadata": {},
   "source": [
    "Aunque esto también se podría hacer con re.findall:"
   ]
  },
  {
   "cell_type": "code",
   "execution_count": 11,
   "metadata": {},
   "outputs": [
    {
     "name": "stdout",
     "output_type": "stream",
     "text": [
      "Número de coincidencias: 4\n"
     ]
    }
   ],
   "source": [
    "import re\n",
    "\n",
    "\n",
    "notasCurso = [10, 4, 10, 3, 10, 4, 6, 10]\n",
    "coincidencias = re.findall('10', str(notasCurso))\n",
    "print(\"Número de coincidencias:\", len(coincidencias))"
   ]
  },
  {
   "cell_type": "code",
   "execution_count": 50,
   "metadata": {},
   "outputs": [
    {
     "name": "stdout",
     "output_type": "stream",
     "text": [
      "[9, 4, 8, 2, 10, 8, 0, 9, 7, 2, 2, 8, 0, 3, 7, 3, 10, 7, 5, 7, 2, 2, 1, 9, 7, 6, 6, 5, 2]\n"
     ]
    }
   ],
   "source": [
    "from random import randint\n",
    "\n",
    "def generaNums():\n",
    "    \"\"\"\n",
    "    Se da un límite para generar números aleatorios\n",
    "    y crea una lista con ellos tan extensa como se especifique.\n",
    "    \"\"\"\n",
    "    \n",
    "    cont = 1\n",
    "    miLista = []\n",
    "    limite=int(input(\"Rango de 1 a\"))\n",
    "    extension = int(input(\"Extensión de la lista\"))\n",
    "\n",
    "\n",
    "    while cont < extension:\n",
    "        miLista.append(randint(1,limite))\n",
    "        cont = cont+1\n",
    "    return miLista\n",
    "\n",
    "\n",
    "print(generaNums())\n"
   ]
  },
  {
   "cell_type": "code",
   "execution_count": 2,
   "metadata": {},
   "outputs": [
    {
     "name": "stdout",
     "output_type": "stream",
     "text": [
      "[['piedra', 'piedra'], ['piedra', 'papel'], ['piedra', 'tijeras'], ['piedra', 'lagarto'], ['piedra', 'Spock'], ['papel', 'piedra'], ['papel', 'papel'], ['papel', 'tijeras'], ['papel', 'lagarto'], ['papel', 'Spock'], ['tijeras', 'piedra'], ['tijeras', 'papel'], ['tijeras', 'tijeras'], ['tijeras', 'lagarto'], ['tijeras', 'Spock']]\n"
     ]
    }
   ],
   "source": [
    "def cartesian(list1, list2):\n",
    "    cartesList = [[a, b] for a in list1 for b in list2]\n",
    "    return cartesList\n",
    "\n",
    "\n",
    "jugador1 = ['piedra', 'papel', 'tijeras']\n",
    "jugador2 = ['piedra', 'papel', 'tijeras', 'lagarto', 'Spock']\n",
    "\n",
    "print(cartesian(jugador1, jugador2))\n"
   ]
  },
  {
   "cell_type": "markdown",
   "metadata": {},
   "source": [
    "### Ordenación de listas"
   ]
  },
  {
   "cell_type": "code",
   "execution_count": null,
   "metadata": {},
   "outputs": [],
   "source": [
    "def myfunc(n):\n",
    "  return abs(n - 50)\n",
    "\n",
    "\n",
    "thislist = [100, 50, 65, 82, 23]\n",
    "thislist.sort(key=myfunc)\n",
    "print(thislist)\n"
   ]
  },
  {
   "cell_type": "markdown",
   "metadata": {},
   "source": [
    "## Funciones de bucles"
   ]
  },
  {
   "cell_type": "code",
   "execution_count": 30,
   "metadata": {},
   "outputs": [
    {
     "name": "stdout",
     "output_type": "stream",
     "text": [
      "Correcto.\n"
     ]
    }
   ],
   "source": [
    "def inputnumber():\n",
    "    \"\"\"\n",
    "    Se pide un número, por ejemplo edad. \n",
    "    Si el input no son dígitos, repite. \n",
    "    \"\"\"\n",
    "\n",
    "    edad=input(\"Introduce la edad: \")\n",
    "\n",
    "    while(edad.isdigit()==False): #este permite saber si es número\n",
    "        edad=input(\"Introduce un valor numérico: \")\n",
    "        \n",
    "    print(\"Correcto.\")\n",
    "    \n",
    "inputnumber()"
   ]
  },
  {
   "cell_type": "code",
   "execution_count": 60,
   "metadata": {},
   "outputs": [
    {
     "name": "stdout",
     "output_type": "stream",
     "text": [
      "Madrid\n",
      "Barcelona\n",
      "Bilbao\n",
      "Valencia\n"
     ]
    }
   ],
   "source": [
    "def devuelve(*varios):\n",
    "    \"\"\"Se le da una lista como argumento y muestra los elementos.\"\"\"\n",
    "    \n",
    "    for elemento in varios:\n",
    "        yield elemento\n",
    "\n",
    "\n",
    "eco = devuelve(\"Madrid\", \"Barcelona\", \"Bilbao\", \"Valencia\")\n",
    "\n",
    "print(next(eco))\n",
    "print(next(eco))\n",
    "print(next(eco))\n",
    "print(next(eco))\n"
   ]
  },
  {
   "cell_type": "markdown",
   "metadata": {},
   "source": [
    "## Funciones de condicionales"
   ]
  },
  {
   "cell_type": "code",
   "execution_count": 46,
   "metadata": {},
   "outputs": [
    {
     "name": "stdout",
     "output_type": "stream",
     "text": [
      "No es una dirección válida\n"
     ]
    }
   ],
   "source": [
    "def correoOK(correo):\n",
    "    \"\"\"Determina si es un correo válido. V.2\"\"\"\n",
    "\n",
    "    arroba = 0\n",
    "    punto = False\n",
    "    letras = 1\n",
    "\n",
    "    for i in correo:\n",
    "        if (i == \"@\"):\n",
    "            arroba = arroba+1\n",
    "        elif (i == \".\"):\n",
    "            punto = True\n",
    "        elif (i == \"_\"):\n",
    "            pass\n",
    "        elif i.isalnum() == False:\n",
    "            letras -= 1\n",
    "\n",
    "    if arroba == 1 and punto == True and letras > 0:\n",
    "        print(\"La dirección es válida\")\n",
    "    else:\n",
    "        print(\"No es una dirección válida\")\n",
    "\n",
    "\n",
    "\n",
    "correoOK(input(\"Escribe tu dirección de correo: \"))"
   ]
  },
  {
   "cell_type": "markdown",
   "metadata": {},
   "source": [
    "Posible función de marcador de intentos. Habría que apañarlo más:"
   ]
  },
  {
   "cell_type": "code",
   "execution_count": null,
   "metadata": {},
   "outputs": [],
   "source": [
    "import math\n",
    "\n",
    "print(\"Programa de cálculo de raíz cuadrada\")\n",
    "numero = int(input(\"Introduce un número: \"))\n",
    "\n",
    "intentos = 0\n",
    "\n",
    "while numero < 0:\n",
    "    print(\"No se puede hallar la raíz cuadrada de este número.\")\n",
    "\n",
    "    if intentos == 2:\n",
    "        print(\"Has probado demasiadas veces y esto se cierra.\")\n",
    "        break\n",
    "\n",
    "    numero = int(input(\"Introduce un número: \"))\n",
    "    if numero < 0:\n",
    "        intentos = intentos+1\n",
    "\n",
    "if intentos < 2:\n",
    "    solucion = math.sqrt(numero)\n",
    "    print(\"La raíz cuadrada de \" + str(numero) + \" es \" + str(solucion))\n"
   ]
  },
  {
   "cell_type": "markdown",
   "metadata": {},
   "source": [
    "## Funciones matemáticas"
   ]
  },
  {
   "cell_type": "code",
   "execution_count": 45,
   "metadata": {},
   "outputs": [
    {
     "data": {
      "text/plain": [
       "'MonJaMonJaMonJa'"
      ]
     },
     "execution_count": 45,
     "metadata": {},
     "output_type": "execute_result"
    }
   ],
   "source": [
    "def multiplicador(n):\n",
    "    \"\"\"Base para construir otras funciones multiplicadoras\"\"\"\n",
    "    \n",
    "    return lambda a: a * n\n",
    "\n",
    "\n",
    "doble = multiplicador(2)\n",
    "triple = multiplicador(3)\n",
    "\n",
    "triple(\"MonJa\")"
   ]
  },
  {
   "cell_type": "markdown",
   "metadata": {},
   "source": [
    "## Funciones de diccionarios"
   ]
  },
  {
   "cell_type": "code",
   "execution_count": 1,
   "metadata": {},
   "outputs": [
    {
     "name": "stdout",
     "output_type": "stream",
     "text": [
      "{'Zenda': 'maestra', 'Aeric': 'tecnomago', 'Odriel': 'médica'}\n"
     ]
    },
    {
     "data": {
      "text/plain": [
       "dict_items([('Zenda', 'maestra'), ('Aeric', 'tecnomago'), ('Odriel', 'médica')])"
      ]
     },
     "execution_count": 1,
     "metadata": {},
     "output_type": "execute_result"
    }
   ],
   "source": [
    "listaClaves = ['Zenda', 'Aeric', 'Odriel']\n",
    "listaValores = ['maestra', 'tecnomago', 'médica']\n",
    "\n",
    "directorios = {dentroFuera: contenidos for (\n",
    "    dentroFuera, contenidos) in zip(listaClaves, listaValores)}\n",
    "print(directorios)\n",
    "\n",
    "directorios.items()\n"
   ]
  }
 ],
 "metadata": {
  "interpreter": {
   "hash": "70807c458cb79526e58bd7650fcaa45a7eca9b73b92f10a18efc123baaaec859"
  },
  "kernelspec": {
   "display_name": "Python 3.10.2 64-bit",
   "language": "python",
   "name": "python3"
  },
  "language_info": {
   "codemirror_mode": {
    "name": "ipython",
    "version": 3
   },
   "file_extension": ".py",
   "mimetype": "text/x-python",
   "name": "python",
   "nbconvert_exporter": "python",
   "pygments_lexer": "ipython3",
   "version": "3.10.2"
  },
  "orig_nbformat": 4
 },
 "nbformat": 4,
 "nbformat_minor": 2
}
